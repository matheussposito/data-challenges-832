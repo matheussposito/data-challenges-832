{
 "cells": [
  {
   "cell_type": "markdown",
   "metadata": {},
   "source": [
    "# Your First RNN\n",
    "\n",
    "**Exercise objectives**:\n",
    "\n",
    "- Better understand temporal data\n",
    "- Build your first Recurrent Neural Network\n",
    "\n",
    "\n",
    "<hr>\n",
    "<hr>"
   ]
  },
  {
   "cell_type": "markdown",
   "metadata": {},
   "source": [
    "## 1. The data\n",
    "\n",
    "Let's start with simple sequences of observations:"
   ]
  },
  {
   "cell_type": "code",
   "execution_count": 1,
   "metadata": {},
   "outputs": [
    {
     "name": "stderr",
     "output_type": "stream",
     "text": [
      "2022-03-06 22:01:00.327958: W tensorflow/stream_executor/platform/default/dso_loader.cc:64] Could not load dynamic library 'libcudart.so.11.0'; dlerror: libcudart.so.11.0: cannot open shared object file: No such file or directory\n",
      "2022-03-06 22:01:00.328016: I tensorflow/stream_executor/cuda/cudart_stub.cc:29] Ignore above cudart dlerror if you do not have a GPU set up on your machine.\n"
     ]
    }
   ],
   "source": [
    "from tensorflow import keras\n",
    "import numpy as np"
   ]
  },
  {
   "cell_type": "code",
   "execution_count": 2,
   "metadata": {},
   "outputs": [],
   "source": [
    "X = np.load('X.npy')\n",
    "y = np.load('y.npy')"
   ]
  },
  {
   "cell_type": "code",
   "execution_count": 3,
   "metadata": {},
   "outputs": [
    {
     "name": "stdout",
     "output_type": "stream",
     "text": [
      "(25000, 10, 3)\n",
      "[[  0.803     10.728925 102.      ]\n",
      " [  0.5       10.728925 102.      ]\n",
      " [  0.603     10.728925 102.      ]\n",
      " [  0.711     10.728925 130.      ]\n",
      " [  0.937     10.728925 130.      ]\n",
      " [  1.051     10.728925 130.      ]\n",
      " [  1.118     32.       108.      ]\n",
      " [  4.87      32.       108.      ]\n",
      " [  4.973     33.       108.      ]\n",
      " [  5.199     39.       108.      ]]\n"
     ]
    }
   ],
   "source": [
    "print(X.shape)\n",
    "print(X[0])"
   ]
  },
  {
   "cell_type": "code",
   "execution_count": 4,
   "metadata": {},
   "outputs": [
    {
     "name": "stdout",
     "output_type": "stream",
     "text": [
      "(25000,)\n",
      "6.499\n"
     ]
    }
   ],
   "source": [
    "print(y.shape)\n",
    "print(y[0])"
   ]
  },
  {
   "cell_type": "markdown",
   "metadata": {},
   "source": [
    "☝️ The data describes the evolution of the **employment status of a person, year after year**: each sequence corresponds to 10 consecutive years, where each year describes a job situation, comprising of 3 components\n",
    "- the salary,\n",
    "- the number of persons under one's responsability,\n",
    "- the size of the company. \n",
    "\n",
    "So, from this 25000 sequences, each of 10 consecutive observations, the goal is to predict the salary on the 11th year based on the past observations. "
   ]
  },
  {
   "cell_type": "markdown",
   "metadata": {},
   "source": [
    "❓ **Question** ❓ Take some sequences and plot the evolution of their salaries, of the persons under their responsibility and of the company sizes. You might see some correlation between the three variables."
   ]
  },
  {
   "cell_type": "code",
   "execution_count": 5,
   "metadata": {
    "tags": [
     "challengify"
    ]
   },
   "outputs": [],
   "source": [
    "import matplotlib.pyplot as plt"
   ]
  },
  {
   "cell_type": "code",
   "execution_count": 25,
   "metadata": {},
   "outputs": [
    {
     "data": {
      "text/plain": [
       "array([102., 102., 102., 130., 130., 130., 108., 108., 108., 108.],\n",
       "      dtype=float32)"
      ]
     },
     "execution_count": 25,
     "metadata": {},
     "output_type": "execute_result"
    }
   ],
   "source": [
    "X[0,:,2]"
   ]
  },
  {
   "cell_type": "code",
   "execution_count": 27,
   "metadata": {
    "scrolled": true
   },
   "outputs": [
    {
     "data": {
      "image/png": "[encoded data removed]",
      "text/plain": [
       "<Figure size 432x288 with 1 Axes>"
      ]
     },
     "metadata": {
      "needs_background": "light"
     },
     "output_type": "display_data"
    }
   ],
   "source": [
    "plt.plot(X[0,:,0], label='salary')\n",
    "plt.plot(X[0,:,1], label='people under resp')\n",
    "plt.plot(X[0,:,2], label='company size')\n",
    "plt.legend();\n"
   ]
  },
  {
   "cell_type": "code",
   "execution_count": 28,
   "metadata": {},
   "outputs": [
    {
     "data": {
      "image/png": "[encoded data removed]",
      "text/plain": [
       "<Figure size 432x288 with 1 Axes>"
      ]
     },
     "metadata": {
      "needs_background": "light"
     },
     "output_type": "display_data"
    }
   ],
   "source": [
    "plt.plot(X[5,:,0], label='salary')\n",
    "plt.plot(X[5,:,1], label='people under resp')\n",
    "plt.plot(X[5,:,2], label='company size')\n",
    "plt.legend();"
   ]
  },
  {
   "cell_type": "markdown",
   "metadata": {},
   "source": [
    "❓ **Question** ❓ Plot the distribution of all the salaries, persons under one's responsibility, and company sizes to get a better understanding of the variability of observations"
   ]
  },
  {
   "cell_type": "code",
   "execution_count": 29,
   "metadata": {},
   "outputs": [
    {
     "data": {
      "text/plain": [
       "array([[0.803, 0.5  , 0.603, ..., 4.87 , 4.973, 5.199],\n",
       "       [1.53 , 1.682, 1.88 , ..., 6.433, 6.562, 6.729],\n",
       "       [2.101, 2.153, 2.209, ..., 2.72 , 2.835, 2.946],\n",
       "       ...,\n",
       "       [1.237, 1.268, 1.258, ..., 1.873, 1.995, 2.098],\n",
       "       [2.619, 1.299, 1.301, ..., 2.487, 2.617, 2.552],\n",
       "       [0.8  , 3.447, 3.507, ..., 2.143, 2.272, 2.371]], dtype=float32)"
      ]
     },
     "execution_count": 29,
     "metadata": {},
     "output_type": "execute_result"
    }
   ],
   "source": [
    "X[:,:,0]"
   ]
  },
  {
   "cell_type": "code",
   "execution_count": 41,
   "metadata": {
    "tags": [
     "challengify"
    ]
   },
   "outputs": [
    {
     "data": {
      "image/png": "[encoded data removed]",
      "text/plain": [
       "<Figure size 432x288 with 1 Axes>"
      ]
     },
     "metadata": {
      "needs_background": "light"
     },
     "output_type": "display_data"
    }
   ],
   "source": [
    "plt.hist(X[:,:,0].flatten());"
   ]
  },
  {
   "cell_type": "code",
   "execution_count": 39,
   "metadata": {},
   "outputs": [
    {
     "data": {
      "image/png": "[encoded data removed]",
      "text/plain": [
       "<Figure size 432x288 with 1 Axes>"
      ]
     },
     "metadata": {
      "needs_background": "light"
     },
     "output_type": "display_data"
    }
   ],
   "source": [
    "plt.hist(X[:,:,1].flatten());"
   ]
  },
  {
   "cell_type": "code",
   "execution_count": 40,
   "metadata": {},
   "outputs": [
    {
     "data": {
      "image/png": "[encoded data removed]",
      "text/plain": [
       "<Figure size 432x288 with 1 Axes>"
      ]
     },
     "metadata": {
      "needs_background": "light"
     },
     "output_type": "display_data"
    }
   ],
   "source": [
    "plt.hist(X[:,:,2].flatten());"
   ]
  },
  {
   "cell_type": "markdown",
   "metadata": {},
   "source": [
    "❓ **Question** ❓  Split your dataset between a train and test set (20/80%)"
   ]
  },
  {
   "cell_type": "code",
   "execution_count": 42,
   "metadata": {
    "tags": [
     "challengify"
    ]
   },
   "outputs": [],
   "source": [
    "from sklearn.model_selection import train_test_split\n",
    "\n",
    "X_train, X_test, y_train, y_test = train_test_split(X, y, test_size=0.20)"
   ]
  },
  {
   "cell_type": "markdown",
   "metadata": {},
   "source": [
    "# 2. A Simple RNN\n",
    "\n",
    "Now, you will create your first Recurrent Neural Network. Let's start simple\n",
    "\n",
    "❓ **Question** ❓ Write a model that has: \n",
    "- a `Normalization` layer adapted on the training set\n",
    "- a `SimpleRNN` layer with 20 `units` - don't forget to choose the `tanh` activation function\n",
    "- a Dense layer with 10 neurons\n",
    "- a last Dense layer specific to your task (predict a salary)\n",
    "\n",
    "Remember, you don't need to specify an `input_shape`: as soon as your normalizer has been adapted to your train set, it has memorized it."
   ]
  },
  {
   "cell_type": "code",
   "execution_count": 44,
   "metadata": {},
   "outputs": [],
   "source": [
    "from tensorflow.keras.layers.experimental.preprocessing import Normalization\n",
    "from tensorflow.keras.models import Sequential\n",
    "from tensorflow.keras.layers import Dense, SimpleRNN, Flatten"
   ]
  },
  {
   "cell_type": "code",
   "execution_count": 46,
   "metadata": {},
   "outputs": [],
   "source": [
    "norm = Normalization()\n",
    "norm.adapt(X_train)"
   ]
  },
  {
   "cell_type": "code",
   "execution_count": 47,
   "metadata": {},
   "outputs": [],
   "source": [
    "model = Sequential()\n",
    "\n",
    "model.add(norm)\n",
    "\n",
    "model.add(SimpleRNN(20, activation='tanh'))\n",
    "model.add(Dense(10, activation='relu'))\n",
    "model.add(Dense(1, activation='linear'))"
   ]
  },
  {
   "cell_type": "markdown",
   "metadata": {},
   "source": [
    "❓ **Question** ❓ Compute the number of trainable parameters of your model using `model.summary`. \n",
    "\n",
    "Then, try to recompute them by hand\n",
    "\n",
    "💡 Hints: \n",
    "- Your `normalization` layer has 7 non-trainable params, which comprise of the mean and standard deviation of each 3 features (salary, persons under responsibility, company size) plus one bias set to 0\n",
    "\n",
    "- If $\\color{green}{n_h}$ RNN units are applied in parallel to $\\color{red}{n_x}$ features, the layer has $\\color{green}{n_h}(\\color{green}{n_h} + \\color{red}{n_x} + 1)$ parameters to train. Notice how this number is *independent* of the length of each sequences (here 10 days)\n"
   ]
  },
  {
   "cell_type": "code",
   "execution_count": 49,
   "metadata": {},
   "outputs": [
    {
     "name": "stdout",
     "output_type": "stream",
     "text": [
      "Model: \"sequential_1\"\n",
      "_________________________________________________________________\n",
      " Layer (type)                Output Shape              Param #   \n",
      "=================================================================\n",
      " normalization_1 (Normalizat  (None, None, 3)          7         \n",
      " ion)                                                            \n",
      "                                                                 \n",
      " simple_rnn (SimpleRNN)      (None, 20)                480       \n",
      "                                                                 \n",
      " dense (Dense)               (None, 10)                210       \n",
      "                                                                 \n",
      " dense_1 (Dense)             (None, 1)                 11        \n",
      "                                                                 \n",
      "=================================================================\n",
      "Total params: 708\n",
      "Trainable params: 701\n",
      "Non-trainable params: 7\n",
      "_________________________________________________________________\n"
     ]
    }
   ],
   "source": [
    "model.summary()"
   ]
  },
  {
   "cell_type": "code",
   "execution_count": 58,
   "metadata": {},
   "outputs": [
    {
     "data": {
      "text/plain": [
       "708"
      ]
     },
     "execution_count": 58,
     "metadata": {},
     "output_type": "execute_result"
    }
   ],
   "source": [
    "7 + \\\n",
    "20 * (20 + 3 + 1) + \\\n",
    "10 * 20 + 10 + \\\n",
    "10 * 1 + 1"
   ]
  },
  {
   "cell_type": "markdown",
   "metadata": {},
   "source": [
    "❓ **Question** ❓ Compile your model. Remember to first use the `rmsprop` optimizer (instead of Adam)."
   ]
  },
  {
   "cell_type": "code",
   "execution_count": 59,
   "metadata": {
    "tags": [
     "challengify"
    ]
   },
   "outputs": [],
   "source": [
    "model.compile(loss='mse',optimizer='rmsprop', metrics=['mae'])"
   ]
  },
  {
   "cell_type": "markdown",
   "metadata": {},
   "source": [
    "❓ **Question** ❓ Run your model on your data. Use a validation split of 20% and an early stopping criterion (patience=5). Evaluate your performance on the test set"
   ]
  },
  {
   "cell_type": "code",
   "execution_count": 60,
   "metadata": {},
   "outputs": [
    {
     "name": "stdout",
     "output_type": "stream",
     "text": [
      "Epoch 1/100\n",
      "500/500 [==============================] - 5s 8ms/step - loss: 21.9805 - mae: 1.9700 - val_loss: 5.6915 - val_mae: 0.7198\n",
      "Epoch 2/100\n",
      "500/500 [==============================] - 3s 7ms/step - loss: 3.5557 - mae: 0.5477 - val_loss: 2.0021 - val_mae: 0.4316\n",
      "Epoch 3/100\n",
      "500/500 [==============================] - 3s 7ms/step - loss: 1.7967 - mae: 0.4146 - val_loss: 1.3450 - val_mae: 0.4678\n",
      "Epoch 4/100\n",
      "500/500 [==============================] - 4s 7ms/step - loss: 1.3079 - mae: 0.3762 - val_loss: 1.0400 - val_mae: 0.3691\n",
      "Epoch 5/100\n",
      "500/500 [==============================] - 4s 7ms/step - loss: 1.0917 - mae: 0.3599 - val_loss: 0.9240 - val_mae: 0.3292\n",
      "Epoch 6/100\n",
      "500/500 [==============================] - 4s 7ms/step - loss: 0.9646 - mae: 0.3518 - val_loss: 1.1393 - val_mae: 0.6347\n",
      "Epoch 7/100\n",
      "500/500 [==============================] - 4s 8ms/step - loss: 0.8965 - mae: 0.3511 - val_loss: 0.8360 - val_mae: 0.3620\n",
      "Epoch 8/100\n",
      "500/500 [==============================] - 4s 7ms/step - loss: 0.8452 - mae: 0.3469 - val_loss: 0.7904 - val_mae: 0.3161\n",
      "Epoch 9/100\n",
      "500/500 [==============================] - 4s 7ms/step - loss: 0.8095 - mae: 0.3449 - val_loss: 0.7971 - val_mae: 0.3203\n",
      "Epoch 10/100\n",
      "500/500 [==============================] - 4s 7ms/step - loss: 0.7831 - mae: 0.3433 - val_loss: 0.8424 - val_mae: 0.3684\n",
      "Epoch 11/100\n",
      "500/500 [==============================] - 4s 7ms/step - loss: 0.7638 - mae: 0.3411 - val_loss: 0.7859 - val_mae: 0.2923\n",
      "Epoch 12/100\n",
      "500/500 [==============================] - 4s 7ms/step - loss: 0.7340 - mae: 0.3472 - val_loss: 0.7592 - val_mae: 0.2886\n",
      "Epoch 13/100\n",
      "500/500 [==============================] - 4s 7ms/step - loss: 0.7238 - mae: 0.3412 - val_loss: 0.7881 - val_mae: 0.2839\n",
      "Epoch 14/100\n",
      "500/500 [==============================] - 3s 7ms/step - loss: 0.7268 - mae: 0.3403 - val_loss: 0.7721 - val_mae: 0.2994\n",
      "Epoch 15/100\n",
      "500/500 [==============================] - 3s 6ms/step - loss: 0.6899 - mae: 0.3410 - val_loss: 0.7890 - val_mae: 0.2752\n",
      "Epoch 16/100\n",
      "500/500 [==============================] - 3s 6ms/step - loss: 0.7003 - mae: 0.3389 - val_loss: 0.7490 - val_mae: 0.2819\n",
      "Epoch 17/100\n",
      "500/500 [==============================] - 3s 6ms/step - loss: 0.6944 - mae: 0.3390 - val_loss: 0.7588 - val_mae: 0.2958\n",
      "Epoch 18/100\n",
      "500/500 [==============================] - 3s 6ms/step - loss: 0.6905 - mae: 0.3356 - val_loss: 0.7716 - val_mae: 0.3393\n",
      "Epoch 19/100\n",
      "500/500 [==============================] - 3s 6ms/step - loss: 0.6718 - mae: 0.3357 - val_loss: 0.7434 - val_mae: 0.2828\n",
      "Epoch 20/100\n",
      "500/500 [==============================] - 3s 6ms/step - loss: 0.6676 - mae: 0.3339 - val_loss: 0.7506 - val_mae: 0.3331\n",
      "Epoch 21/100\n",
      "500/500 [==============================] - 3s 6ms/step - loss: 0.6653 - mae: 0.3356 - val_loss: 0.7495 - val_mae: 0.2973\n",
      "Epoch 22/100\n",
      "500/500 [==============================] - 4s 7ms/step - loss: 0.6602 - mae: 0.3383 - val_loss: 0.8171 - val_mae: 0.3656\n",
      "Epoch 23/100\n",
      "500/500 [==============================] - 4s 8ms/step - loss: 0.6529 - mae: 0.3337 - val_loss: 0.7519 - val_mae: 0.3018\n",
      "Epoch 24/100\n",
      "500/500 [==============================] - 4s 8ms/step - loss: 0.6563 - mae: 0.3339 - val_loss: 0.8164 - val_mae: 0.4189\n"
     ]
    },
    {
     "data": {
      "text/plain": [
       "<keras.callbacks.History at 0x7f923c4ac760>"
      ]
     },
     "execution_count": 60,
     "metadata": {},
     "output_type": "execute_result"
    }
   ],
   "source": [
    "from tensorflow.keras.callbacks import EarlyStopping\n",
    "\n",
    "es = EarlyStopping(patience=5, restore_best_weights=True)\n",
    "\n",
    "model.fit(X_train, y_train,\n",
    "          epochs=100, \n",
    "          batch_size=32, \n",
    "          validation_split=0.2,\n",
    "          callbacks=[es])"
   ]
  },
  {
   "cell_type": "code",
   "execution_count": 61,
   "metadata": {},
   "outputs": [
    {
     "name": "stdout",
     "output_type": "stream",
     "text": [
      "157/157 [==============================] - 1s 5ms/step - loss: 0.4693 - mae: 0.2724\n"
     ]
    },
    {
     "data": {
      "text/plain": [
       "[0.469332218170166, 0.2723940312862396]"
      ]
     },
     "execution_count": 61,
     "metadata": {},
     "output_type": "execute_result"
    }
   ],
   "source": [
    "model.evaluate(X_test,y_test)"
   ]
  },
  {
   "cell_type": "markdown",
   "metadata": {},
   "source": [
    "# Baseline comparison?\n",
    "\n",
    "\n",
    "In the case of a usual regression model, a baseline prediction for `y_test` could be to predict the average of `y_train`.\n",
    "\n",
    "With temporal data, it often happens that you try to predict a value that you have already seen in the past: here, the salary. In that case, a baseline model could be to predict for instance that the 11-th salary is equal to the 10-th salary.\n",
    "\n",
    "❓ **Question** ❓ Compute the Mean Absolute Error of a model that would predict that the salary remains constant between the 10-th and 11-th year and compare it to your RNN."
   ]
  },
  {
   "cell_type": "code",
   "execution_count": 62,
   "metadata": {
    "tags": [
     "challengify"
    ]
   },
   "outputs": [],
   "source": [
    "pred = X[:,-1,0]"
   ]
  },
  {
   "cell_type": "code",
   "execution_count": 63,
   "metadata": {},
   "outputs": [],
   "source": [
    "from sklearn.metrics import mean_absolute_error"
   ]
  },
  {
   "cell_type": "code",
   "execution_count": 64,
   "metadata": {},
   "outputs": [
    {
     "data": {
      "text/plain": [
       "0.5951943998979569"
      ]
     },
     "execution_count": 64,
     "metadata": {},
     "output_type": "execute_result"
    }
   ],
   "source": [
    "mean_absolute_error(y, pred)"
   ]
  },
  {
   "cell_type": "markdown",
   "metadata": {},
   "source": [
    "You have probably seen that your prediction is a little bit better than the baseline model\n",
    "\n",
    "# LSTM\n",
    "\n",
    "❓ **Question** ❓ Write the exact same model, but with a `LSTM` instead of a `SimpleRNN` and evaluate your performance on the test set"
   ]
  },
  {
   "cell_type": "code",
   "execution_count": 65,
   "metadata": {},
   "outputs": [],
   "source": [
    "from tensorflow.keras.layers import LSTM"
   ]
  },
  {
   "cell_type": "code",
   "execution_count": null,
   "metadata": {},
   "outputs": [
    {
     "name": "stdout",
     "output_type": "stream",
     "text": [
      "Epoch 1/30\n",
      "500/500 [==============================] - 8s 12ms/step - loss: 32.2612 - mae: 2.8554 - val_loss: 11.0563 - val_mae: 1.2516\n",
      "Epoch 2/30\n",
      "500/500 [==============================] - 5s 10ms/step - loss: 5.9532 - mae: 0.7997 - val_loss: 2.6804 - val_mae: 0.5669\n",
      "Epoch 3/30\n",
      "500/500 [==============================] - 5s 10ms/step - loss: 2.1041 - mae: 0.4242 - val_loss: 1.4289 - val_mae: 0.3649\n",
      "Epoch 4/30\n",
      "500/500 [==============================] - 5s 10ms/step - loss: 1.3308 - mae: 0.3653 - val_loss: 1.0589 - val_mae: 0.3386\n",
      "Epoch 5/30\n",
      "500/500 [==============================] - 5s 9ms/step - loss: 1.0811 - mae: 0.3442 - val_loss: 0.9391 - val_mae: 0.3610\n",
      "Epoch 6/30\n",
      "500/500 [==============================] - 5s 9ms/step - loss: 0.9457 - mae: 0.3337 - val_loss: 0.8058 - val_mae: 0.2774\n",
      "Epoch 7/30\n",
      "500/500 [==============================] - 5s 10ms/step - loss: 0.8601 - mae: 0.3273 - val_loss: 0.8100 - val_mae: 0.3391\n",
      "Epoch 8/30\n",
      "500/500 [==============================] - 5s 10ms/step - loss: 0.8074 - mae: 0.3190 - val_loss: 0.8190 - val_mae: 0.3491\n",
      "Epoch 9/30\n",
      "500/500 [==============================] - 5s 10ms/step - loss: 0.7595 - mae: 0.3140 - val_loss: 0.7637 - val_mae: 0.2637\n",
      "Epoch 10/30\n",
      "500/500 [==============================] - 5s 10ms/step - loss: 0.7440 - mae: 0.3129 - val_loss: 0.7737 - val_mae: 0.2981\n",
      "Epoch 11/30\n",
      "500/500 [==============================] - 5s 10ms/step - loss: 0.7116 - mae: 0.3099 - val_loss: 0.7254 - val_mae: 0.3073\n",
      "Epoch 12/30\n",
      "500/500 [==============================] - 5s 10ms/step - loss: 0.6956 - mae: 0.3130 - val_loss: 0.7180 - val_mae: 0.2858\n",
      "Epoch 13/30\n",
      "500/500 [==============================] - 5s 10ms/step - loss: 0.6843 - mae: 0.3076 - val_loss: 0.7746 - val_mae: 0.3798\n",
      "Epoch 14/30\n",
      "500/500 [==============================] - 5s 10ms/step - loss: 0.6716 - mae: 0.3057 - val_loss: 0.7049 - val_mae: 0.2662\n",
      "Epoch 15/30\n",
      "500/500 [==============================] - 5s 10ms/step - loss: 0.6642 - mae: 0.3045 - val_loss: 0.7425 - val_mae: 0.2885\n",
      "Epoch 16/30\n",
      "500/500 [==============================] - 5s 10ms/step - loss: 0.6596 - mae: 0.3038 - val_loss: 0.7351 - val_mae: 0.2842\n",
      "Epoch 17/30\n",
      "500/500 [==============================] - 5s 10ms/step - loss: 0.6531 - mae: 0.3031 - val_loss: 0.7242 - val_mae: 0.2976\n",
      "Epoch 18/30\n",
      "500/500 [==============================] - 5s 10ms/step - loss: 0.6473 - mae: 0.2995 - val_loss: 0.7710 - val_mae: 0.2904\n",
      "Epoch 19/30\n",
      "500/500 [==============================] - 5s 10ms/step - loss: 0.6353 - mae: 0.2974 - val_loss: 0.7625 - val_mae: 0.2702\n",
      "Epoch 20/30\n",
      "500/500 [==============================] - 5s 10ms/step - loss: 0.6317 - mae: 0.2984 - val_loss: 0.8011 - val_mae: 0.3686\n",
      "Epoch 21/30\n",
      "500/500 [==============================] - 5s 10ms/step - loss: 0.6316 - mae: 0.2965 - val_loss: 0.7899 - val_mae: 0.3168\n",
      "Epoch 22/30\n",
      "500/500 [==============================] - 6s 11ms/step - loss: 0.6179 - mae: 0.2961 - val_loss: 0.7619 - val_mae: 0.2707\n",
      "Epoch 23/30\n",
      "500/500 [==============================] - 5s 10ms/step - loss: 0.6201 - mae: 0.2909 - val_loss: 0.7411 - val_mae: 0.2682\n",
      "Epoch 24/30\n",
      "500/500 [==============================] - 5s 10ms/step - loss: 0.6197 - mae: 0.2929 - val_loss: 0.7967 - val_mae: 0.2866\n",
      "Epoch 25/30\n",
      "500/500 [==============================] - 5s 10ms/step - loss: 0.6156 - mae: 0.2923 - val_loss: 0.7999 - val_mae: 0.3340\n",
      "Epoch 26/30\n",
      "500/500 [==============================] - 5s 10ms/step - loss: 0.6092 - mae: 0.2901 - val_loss: 0.7643 - val_mae: 0.2788\n",
      "Epoch 27/30\n",
      "500/500 [==============================] - 5s 10ms/step - loss: 0.6110 - mae: 0.2916 - val_loss: 0.7747 - val_mae: 0.2634\n",
      "Epoch 28/30\n",
      "151/500 [========>.....................] - ETA: 3s - loss: 0.5809 - mae: 0.2838"
     ]
    }
   ],
   "source": [
    "model_lstm = Sequential()\n",
    "\n",
    "model_lstm.add(norm)\n",
    "model_lstm.add(LSTM(20, activation='tanh'))\n",
    "model_lstm.add(Dense(10, activation='relu'))\n",
    "model_lstm.add(Dense(1, activation='linear'))\n",
    "\n",
    "model_lstm.compile(loss='mse', optimizer='rmsprop', metrics=['mae'])\n",
    "\n",
    "model_lstm.fit(X_train,y_train, epochs=30, batch_size=32, validation_split=0.2)"
   ]
  },
  {
   "cell_type": "code",
   "execution_count": null,
   "metadata": {},
   "outputs": [],
   "source": [
    "model_lstm.evaluate(X_test, y_test)"
   ]
  },
  {
   "cell_type": "markdown",
   "metadata": {},
   "source": [
    "## 🏁 Congratulation\n",
    "\n",
    "You now know how to run RNN on sequence data!\n",
    "\n",
    "Note: The sequences you worked with are totally fake. In case you need to train and reproduce similar data, you can find bellow the functions that have been used to simulate this data."
   ]
  },
  {
   "cell_type": "markdown",
   "metadata": {},
   "source": [
    "# Utils (for reference only)"
   ]
  },
  {
   "cell_type": "code",
   "execution_count": null,
   "metadata": {},
   "outputs": [],
   "source": [
    "def create_sequences(number):\n",
    "    X, y = [], []\n",
    "    \n",
    "    for i in range(number):\n",
    "        x_i, y_i = create_individual_sequence(10)\n",
    "        X.append(x_i)\n",
    "        y.append(y_i)\n",
    "        \n",
    "    return np.array(X), np.array(y)\n",
    "            \n",
    "def create_individual_sequence(length):\n",
    "    company_sizes = []\n",
    "    nb_persons = []\n",
    "    salaries = []\n",
    "    \n",
    "    \n",
    "    # Education level\n",
    "    educ_level = [max(0, int(np.random.normal(10, 2)))]*length\n",
    "    \n",
    "    # Company size\n",
    "    current_size = int(1 + np.random.beta(.4, 4)*500)\n",
    "    for i in range(length):\n",
    "        if not np.random.randint(4): # Change 1 out of 3 possibilities \n",
    "            current_size = int(max(1, np.random.normal(current_size, 50)))\n",
    "        company_sizes.append(current_size)\n",
    "    \n",
    "    # Number of persons\n",
    "    nb_iter = np.random.beta(.15, 4)*300\n",
    "    for i in range(length):\n",
    "        if not np.random.randint(2): # Change 1 out of 2 possibilities\n",
    "            R_1 = np.random.beta(0.5, 8)*3\n",
    "            nb_iter = nb_iter + max(-2, R_1*company_sizes[i] + np.random.randint(-2, 2))\n",
    "            nb_iter = max(0, nb_iter)\n",
    "            nb_iter = int(min(company_sizes[i]-1, nb_iter))\n",
    "        nb_persons.append(nb_iter)\n",
    "        \n",
    "    \n",
    "    # Salary\n",
    "    salary_iter = max(800, int(np.random.normal(1200, 300)+ 0.05*company_sizes[0] +  np.random.normal(40, 400)))\n",
    "    salaries.append(salary_iter)\n",
    "    for i in range(1, length + 1):\n",
    "        R_1 = np.random.normal(100, 50)\n",
    "        change_person = nb_persons[i-1] - nb_persons[i-2]\n",
    "        change_company = max(0, company_sizes[i-1] - company_sizes[i-2])\n",
    "        salary_iter = salary_iter + 0.05*change_company + change_person*R_1 + np.random.normal(100, 50)\n",
    "        salary_iter = max(int(salary_iter), 500)\n",
    "        \n",
    "        salaries.append(salary_iter)\n",
    "\n",
    "    y = salaries[-1]/1000\n",
    "    salaries = [_/1000 for _ in salaries[:-1]]\n",
    "    \n",
    "    return np.array([salaries, nb_persons, company_sizes]).T, y"
   ]
  },
  {
   "cell_type": "code",
   "execution_count": null,
   "metadata": {},
   "outputs": [],
   "source": [
    "#X, y = create_sequences(25000)\n",
    "\n",
    "#np.save('X', X.astype(np.float32))\n",
    "#np.save('y', y)"
   ]
  }
 ],
 "metadata": {
  "kernelspec": {
   "display_name": "Python 3 (ipykernel)",
   "language": "python",
   "name": "python3"
  },
  "language_info": {
   "codemirror_mode": {
    "name": "ipython",
    "version": 3
   },
   "file_extension": ".py",
   "mimetype": "text/x-python",
   "name": "python",
   "nbconvert_exporter": "python",
   "pygments_lexer": "ipython3",
   "version": "3.8.12"
  },
  "toc": {
   "base_numbering": 1,
   "nav_menu": {},
   "number_sections": true,
   "sideBar": true,
   "skip_h1_title": false,
   "title_cell": "Table of Contents",
   "title_sidebar": "Contents",
   "toc_cell": false,
   "toc_position": {},
   "toc_section_display": true,
   "toc_window_display": false
  }
 },
 "nbformat": 4,
 "nbformat_minor": 2
}
